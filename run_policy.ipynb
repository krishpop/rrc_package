{
 "cells": [
  {
   "cell_type": "code",
   "execution_count": 1,
   "id": "460bd1a2-7f5f-4682-8cdf-2e8a547dcde6",
   "metadata": {
    "execution": {
     "iopub.execute_input": "2022-05-30T21:10:20.101434Z",
     "iopub.status.busy": "2022-05-30T21:10:20.101075Z",
     "iopub.status.idle": "2022-05-30T21:10:20.125786Z",
     "shell.execute_reply": "2022-05-30T21:10:20.125147Z",
     "shell.execute_reply.started": "2022-05-30T21:10:20.101363Z"
    },
    "tags": []
   },
   "outputs": [],
   "source": [
    "%load_ext autoreload\n",
    "%autoreload 2\n",
    "\n",
    "env = None"
   ]
  },
  {
   "cell_type": "markdown",
   "id": "49f38a4c-9838-48dc-af60-c66e3fba29fd",
   "metadata": {
    "execution": {
     "iopub.execute_input": "2022-05-21T23:00:51.092295Z",
     "iopub.status.busy": "2022-05-21T23:00:51.091785Z",
     "iopub.status.idle": "2022-05-21T23:00:51.097859Z",
     "shell.execute_reply": "2022-05-21T23:00:51.096296Z",
     "shell.execute_reply.started": "2022-05-21T23:00:51.092236Z"
    },
    "jp-MarkdownHeadingCollapsed": true,
    "tags": []
   },
   "source": [
    "## Import policy and env"
   ]
  },
  {
   "cell_type": "code",
   "execution_count": 2,
   "id": "72ea46c0-69ed-4d75-bfc2-94b040d3b926",
   "metadata": {
    "execution": {
     "iopub.execute_input": "2022-05-30T21:10:20.128486Z",
     "iopub.status.busy": "2022-05-30T21:10:20.127815Z",
     "iopub.status.idle": "2022-05-30T21:10:21.289612Z",
     "shell.execute_reply": "2022-05-30T21:10:21.288850Z",
     "shell.execute_reply.started": "2022-05-30T21:10:20.128461Z"
    },
    "tags": []
   },
   "outputs": [
    {
     "name": "stderr",
     "output_type": "stream",
     "text": [
      "pybullet build time: Dec 23 2020 01:48:06\n"
     ]
    },
    {
     "name": "stdout",
     "output_type": "stream",
     "text": [
      "ROS not imported, testing mode\n",
      "ROS not imported, testing mode\n"
     ]
    }
   ],
   "source": [
    "from IPython.display import Video\n",
    "\n",
    "import os\n",
    "import numpy as np\n",
    "import json\n",
    "import pybullet as p\n",
    "import imageio\n",
    "\n",
    "from PIL import Image\n",
    "from rrc_example_package.viz_utils import VisualMarkers\n",
    "from rrc_example_package.pd_control import PDControlPolicy\n",
    "from rrc_example_package.cube_trajectory_env import ActionType, SimCubeTrajectoryEnv\n",
    "\n",
    "# comment if running remote with VNC\n",
    "os.environ[\"DISPLAY\"] = \":1\""
   ]
  },
  {
   "cell_type": "markdown",
   "id": "c56c05a8-c05e-4014-8515-7d90413565dc",
   "metadata": {
    "tags": []
   },
   "source": [
    "## Helper funcs"
   ]
  },
  {
   "cell_type": "code",
   "execution_count": 3,
   "id": "536bb478-d36c-4ece-bf26-eece1e304a9d",
   "metadata": {
    "execution": {
     "iopub.execute_input": "2022-05-30T21:10:21.290570Z",
     "iopub.status.busy": "2022-05-30T21:10:21.290436Z",
     "iopub.status.idle": "2022-05-30T21:10:21.317562Z",
     "shell.execute_reply": "2022-05-30T21:10:21.316599Z",
     "shell.execute_reply.started": "2022-05-30T21:10:21.290552Z"
    },
    "tags": []
   },
   "outputs": [],
   "source": [
    "import os\n",
    "import pybullet as p\n",
    "import glob\n",
    "from PIL import Image\n",
    "\n",
    "\n",
    "def get_vid_path():\n",
    "    i = 0\n",
    "    vid_path = lambda: f'vids/run{i}.mp4'\n",
    "    if not os.path.exists(os.path.split(vid_path())[0]):\n",
    "        os.makedirs(os.path.split(vid_path())[0])\n",
    "    while os.path.exists(vid_path()):\n",
    "        i += 1\n",
    "    return vid_path()\n",
    "\n",
    "\n",
    "def write_frame_to_image(img_path, **camera_kwargs):\n",
    "    frame = p.getCameraImage(**camera_kwargs)[2]\n",
    "    im = Image.fromarray(frame)\n",
    "    im.save(img_path)\n",
    "    return\n",
    "\n",
    "\n",
    "def write_frames_to_video(frames=None, img_dir=\"\", fps=20):\n",
    "    if img_dir:\n",
    "        frames = sorted(glob.glob(os.path.join(img_dir, \"img*.png\")),\n",
    "                        key=lambda x: int(x.split(\"img\")[1].split(\".\")[0]))\n",
    "    vid_path = get_vid_path()\n",
    "    writer = imageio.get_writer(vid_path, fps=20)  # actual fps is 1000 // save_freq ~~ 200\n",
    "    for image in frames:\n",
    "        if img_dir:\n",
    "            image = imageio.imread(file)\n",
    "        writer.append_data(image)\n",
    "    writer.close()\n",
    "    print(f\"wrote frames to {vid_path}\")\n",
    "    return vid_path\n",
    "\n",
    "\n",
    "def debug_markers(markers, grasp_pts, marker_colors=None):\n",
    "    # default to RGB\n",
    "    if marker_colors is None:\n",
    "        marker_colors = [(1., 0., 0., .5), \n",
    "                         (0., 1., 0., .5), \n",
    "                         (0., 0., 1., .5)]\n",
    "    if markers is None:\n",
    "        markers = VisualMarkers()\n",
    "        for grasp_pt, color in zip(grasp_pts, marker_colors):\n",
    "            markers.add(grasp_pt, color=color)\n",
    "    else:\n",
    "        for marker, grasp_pt in zip(markers.markers, grasp_pts):\n",
    "            marker.set_state(grasp_pt)\n",
    "    return markers\n",
    "\n",
    "\n",
    "def load_debug_camera_viz_configs(config_path='debug_camera.npz'):\n",
    "    \"\"\"Loads debug camera and visualizer kwargs\"\"\"\n",
    "    debug_camera_kwargs = dict(np.load(config_path))\n",
    "    visualizer_kws = ['cameraDistance', 'cameraYaw', 'cameraPitch', 'cameraTargetPosition']\n",
    "    camera_kws = ['width', 'height', 'viewMatrix', 'projectionMatrix']\n",
    "    scalar_kws = ['width', 'height', 'cameraYaw', 'cameraPitch', 'cameraDistance']\n",
    "    for k in scalar_kws:\n",
    "        debug_camera_kwargs[k] = debug_camera_kwargs[k].item()\n",
    "\n",
    "    debug_camera_kwargs['width'] = debug_camera_kwargs['width'] // 4\n",
    "    debug_camera_kwargs['height'] = debug_camera_kwargs['height'] // 4\n",
    "\n",
    "    camera_kwargs = {k: debug_camera_kwargs[k] for k in camera_kws}\n",
    "    visualizer_kwargs = {k: debug_camera_kwargs[k] for k in visualizer_kws}\n",
    "    return camera_kwargs, visualizer_kwargs\n",
    "\n",
    "\n",
    "def calc_gravity(observation, inv_dyn=False):\n",
    "    q0 = observation['robot_observation']['position']\n",
    "    dq0 = observation['robot_observation']['velocity']\n",
    "    if inv_dyn:\n",
    "        return np.asarray(p.calculateInverseDynamics(\n",
    "            env.platform.simfinger.finger_id,\n",
    "            list(q0), list(dq0),\n",
    "            [0.0 for _ in range(9)]\n",
    "        ))\n",
    "\n",
    "    jac_g = 0\n",
    "    for fid in range(3):\n",
    "        frame_ids = [\n",
    "                policy.kinematics.finger_link_ids[f'finger_{link}_link_{fid * 120}'] + 2\n",
    "                    for link in ['upper', 'middle', 'lower']]\n",
    "        frame_names = [policy.kinematics.robot_model.frames[i].name for i in frame_ids]\n",
    "        # print(frame_names)\n",
    "        ms = policy.kinematics.ms\n",
    "        for i, frame_id in enumerate(frame_ids):\n",
    "            grav = np.array([0, 0, -9.8 * ms[i]])\n",
    "            jac_g -= policy.kinematics.compute_jacobian(frame_id, q0)[:3,:].T @ grav\n",
    "\n",
    "    return jac_g"
   ]
  },
  {
   "cell_type": "markdown",
   "id": "e4fa5528-3a51-445d-8919-20488fc91051",
   "metadata": {
    "jp-MarkdownHeadingCollapsed": true,
    "tags": []
   },
   "source": [
    "## Run episode boilerplate"
   ]
  },
  {
   "cell_type": "markdown",
   "id": "e61cd35e-8d5a-417f-be1d-eccfd1388d62",
   "metadata": {
    "execution": {
     "iopub.execute_input": "2022-05-22T16:43:59.690624Z",
     "iopub.status.busy": "2022-05-22T16:43:59.690118Z",
     "iopub.status.idle": "2022-05-22T16:43:59.724350Z",
     "shell.execute_reply": "2022-05-22T16:43:59.723392Z",
     "shell.execute_reply.started": "2022-05-22T16:43:59.690563Z"
    },
    "tags": []
   },
   "source": [
    "Close and delete env and policy\n",
    "```python\n",
    "env.close()\n",
    "del env\n",
    "del policy\n",
    "```"
   ]
  },
  {
   "cell_type": "markdown",
   "id": "3e935fe7-319a-42e0-a44e-20cfaded4e78",
   "metadata": {
    "execution": {
     "iopub.execute_input": "2022-05-22T20:26:18.368779Z",
     "iopub.status.busy": "2022-05-22T20:26:18.368497Z",
     "iopub.status.idle": "2022-05-22T20:26:18.375289Z",
     "shell.execute_reply": "2022-05-22T20:26:18.374667Z",
     "shell.execute_reply.started": "2022-05-22T20:26:18.368746Z"
    },
    "jp-MarkdownHeadingCollapsed": true,
    "tags": []
   },
   "source": [
    "Camera visualization params\n",
    "\n",
    "```python\n",
    "(width,\n",
    "height,\n",
    "viewMatrix,\n",
    "projectionMatrix,\n",
    "cameraUp,\n",
    "cameraForward,\n",
    "horizontal,\n",
    "vertical,\n",
    "cameraYaw,\n",
    "cameraPitch,\n",
    "cameraDistance,\n",
    "target) = p.getDebugVisualizerCamera()\n",
    "\n",
    "np.savez('debug_camera.npz', width=width, height=height,\n",
    "         viewMatrix=viewMatrix, projectionMatrix=projectionMatrix,\n",
    "         cameraYaw=cameraYaw, cameraPitch=cameraPitch, \n",
    "         cameraDistance=cameraDistance, cameraTargetPosition=target)\n",
    "```"
   ]
  },
  {
   "cell_type": "markdown",
   "id": "23fdb349-ab1c-48c8-83f3-782f63acefb9",
   "metadata": {
    "execution": {
     "iopub.execute_input": "2022-05-23T23:02:48.758515Z",
     "iopub.status.busy": "2022-05-23T23:02:48.757696Z",
     "iopub.status.idle": "2022-05-23T23:02:48.786840Z",
     "shell.execute_reply": "2022-05-23T23:02:48.786161Z",
     "shell.execute_reply.started": "2022-05-23T23:02:48.758410Z"
    },
    "tags": []
   },
   "source": [
    "Load pinocchio utils from benchmark-rrc\n",
    "\n",
    "```python\n",
    "from rrc.env import pinocchio_utils\n",
    "import os.path as osp\n",
    "import trifinger_simulation\n",
    "\n",
    "robot_properties_path = osp.join(osp.split(osp.abspath(trifinger_simulation.__file__))[0],\n",
    "                                         \"robot_properties_fingers\")\n",
    "urdf_file = trifinger_simulation.finger_types_data.get_finger_urdf(\n",
    "    \"trifingerpro\"\n",
    ")\n",
    "finger_urdf_path = osp.join(robot_properties_path, \"urdf\", urdf_file)\n",
    "pi = pinocchio_utils.PinocchioUtils(finger_urdf_path)\n",
    "pi.compute_jacobian = pi.get_any_link_jacobian\n",
    "pi.compute_lambda_and_g_matrix = pi.get_lambda_and_g_matrix\n",
    "```"
   ]
  },
  {
   "cell_type": "markdown",
   "id": "87057408-7fc7-433f-8135-b2ca5d10159d",
   "metadata": {
    "tags": []
   },
   "source": [
    "## Initialize policy and env"
   ]
  },
  {
   "cell_type": "code",
   "execution_count": 4,
   "id": "d6f8a1ec-1fba-4acc-8976-9e1143e95723",
   "metadata": {
    "execution": {
     "iopub.execute_input": "2022-05-30T21:10:21.361658Z",
     "iopub.status.busy": "2022-05-30T21:10:21.361311Z",
     "iopub.status.idle": "2022-05-30T21:10:23.698473Z",
     "shell.execute_reply": "2022-05-30T21:10:23.697756Z",
     "shell.execute_reply.started": "2022-05-30T21:10:21.361623Z"
    },
    "tags": []
   },
   "outputs": [],
   "source": [
    "# initialize visualization vars\n",
    "save_vid = False\n",
    "save_freq = 10\n",
    "visualization = True\n",
    "\n",
    "camera_kwargs, visualizer_kwargs = load_debug_camera_viz_configs()\n",
    "\n",
    "# load goal\n",
    "goal_json = './goal.json'\n",
    "goal = json.loads(open(goal_json, \"r\").read())[\"_goal\"]\n",
    "\n",
    "# create env\n",
    "if env is None:\n",
    "    env = SimCubeTrajectoryEnv(\n",
    "        goal_trajectory=goal,  # passing None to sample a random trajectory\n",
    "        action_type=ActionType.TORQUE,\n",
    "        visualization=visualization,\n",
    "    )\n",
    "\n",
    "# initialize loop vars and visualizer (if visualization==True)\n",
    "is_done = False\n",
    "observation = env.reset()\n",
    "p.resetDebugVisualizerCamera(**visualizer_kwargs)\n",
    "p.configureDebugVisualizer(p.COV_ENABLE_GUI, 0)\n",
    "\n",
    "t = 0\n",
    "\n",
    "# create policy\n",
    "policy = PDControlPolicy(env.action_space, env.info[\"trajectory\"])"
   ]
  },
  {
   "cell_type": "markdown",
   "id": "2c8fb7e2-5446-4722-8a56-5b5bbd823904",
   "metadata": {
    "execution": {
     "iopub.execute_input": "2022-05-24T05:25:27.859148Z",
     "iopub.status.busy": "2022-05-24T05:25:27.858862Z",
     "iopub.status.idle": "2022-05-24T05:25:27.887582Z",
     "shell.execute_reply": "2022-05-24T05:25:27.886951Z",
     "shell.execute_reply.started": "2022-05-24T05:25:27.859117Z"
    },
    "tags": []
   },
   "source": [
    "## Computing gravity compensation forces\n",
    "\n",
    "```python\n",
    "import time\n",
    "q0 = observation['robot_observation']['position']\n",
    "dq0 = observation['robot_observation']['velocity']\n",
    "g2 = np.asarray(p.calculateInverseDynamics(\n",
    "    env.platform.simfinger.finger_id,\n",
    "    list(q0), list(dq0),\n",
    "    [0.0 for _ in range(9)]\n",
    "))\n",
    "\n",
    "g_tot = 0\n",
    "for fid in [0,120,240]:\n",
    "    frame_ids = [policy.kinematics.finger_link_ids[f'finger_{link}_link_{fid}'] + 1 for link in ['upper', 'middle', 'lower']]\n",
    "    ms = policy.kinematics.ms\n",
    "    for i, frame_id in enumerate(frame_ids):\n",
    "        grav = np.array([0, 0, -9.8 * ms[i]]) \n",
    "        g_tot -= policy.kinematics.compute_jacobian(frame_id, q0)[:3,:].T @ grav\n",
    "```"
   ]
  },
  {
   "cell_type": "code",
   "execution_count": 5,
   "id": "117e4e8a-c9e7-4d3b-9675-9c590e5b8e70",
   "metadata": {
    "execution": {
     "iopub.execute_input": "2022-05-30T21:10:41.661407Z",
     "iopub.status.busy": "2022-05-30T21:10:41.661037Z",
     "iopub.status.idle": "2022-05-30T21:15:41.449405Z",
     "shell.execute_reply": "2022-05-30T21:15:41.448685Z",
     "shell.execute_reply.started": "2022-05-30T21:10:41.661364Z"
    },
    "tags": []
   },
   "outputs": [
    {
     "name": "stdout",
     "output_type": "stream",
     "text": [
      "[0.     0.0335 0.0335]\n",
      "[ 0.     -0.0335  0.0335]\n",
      "[-0.0335  0.      0.0335]\n",
      "[-0.00225968  0.0356272   0.0335    ]\n",
      "[-0.00117943 -0.03136409  0.0335    ]\n",
      "[-0.0352152   0.00159143  0.0335    ]\n",
      "[-0.00225594  0.03562741  0.0335    ]\n",
      "[-0.00118031 -0.03136395  0.0335    ]\n",
      "[-0.03521381  0.00159392  0.0335    ]\n",
      "[-0.00225749  0.03563043  0.0335    ]\n",
      "[-0.00118596 -0.031361    0.0335    ]\n",
      "[-0.03521744  0.00159895  0.0335    ]\n"
     ]
    }
   ],
   "source": [
    "from rrc_example_package import utils\n",
    "\n",
    "# first write after reset\n",
    "is_done = False\n",
    "observation = env.reset()\n",
    "p.resetDebugVisualizerCamera(**visualizer_kwargs)\n",
    "t = 0\n",
    "\n",
    "markers = None\n",
    "last_mode = \"\"\n",
    "\n",
    "q0 = observation['robot_observation']['position']\n",
    "dq0 = observation['robot_observation']['velocity']\n",
    "inv_dyn_g = np.asarray(p.calculateInverseDynamics(\n",
    "    env.platform.simfinger.finger_id,\n",
    "    list(q0), list(dq0),\n",
    "    [0.0 for _ in range(9)]\n",
    "))\n",
    "\n",
    "\n",
    "while not is_done:\n",
    "    action = policy.predict(observation, t=10)  # always on off mode\n",
    "    gravity_comp = calc_gravity(observation, inv_dyn=False)\n",
    "    observation, reward, is_done, info = env.step(gravity_comp)\n",
    "    t = info[\"time_index\"]\n",
    "    grasp_pts, normals = policy.compute_grasp_points_normals(observation, overwrite_z=True)\n",
    "    if policy.set_mode(t) != last_mode:\n",
    "        last_mode = policy.set_mode(t)\n",
    "        if (~np.isclose(grasp_pts[:, 2], utils.CUBE_HALF_SIZE, atol=1e-6)).any():\n",
    "            print(grasp_pts[:, 2] - utils.CUBE_HALF_SIZE)\n",
    "            pdb.set_trace()\n",
    "        markers = debug_markers(markers, grasp_pts)\n",
    "        for m in markers.markers:\n",
    "            print(m.position)\n",
    "    if save_vid and t % save_freq == 0:\n",
    "        write_frame_to_image(f\"/tmp/img{t}.png\", **camera_kwargs)\n",
    "\n",
    "if save_vid:\n",
    "    write_frames_to_video(img_dir=\"/tmp\")"
   ]
  },
  {
   "cell_type": "markdown",
   "id": "dff92e14-0ed7-48e1-8dbc-acbe0bc794d6",
   "metadata": {},
   "source": [
    "## Running episode with PDControl Policy"
   ]
  },
  {
   "cell_type": "code",
   "execution_count": 58,
   "id": "85ac4639-f5e9-4063-95de-b45efed8a3a3",
   "metadata": {
    "execution": {
     "iopub.execute_input": "2022-05-27T21:25:42.220815Z",
     "iopub.status.busy": "2022-05-27T21:25:42.220395Z",
     "iopub.status.idle": "2022-05-27T21:25:58.726935Z",
     "shell.execute_reply": "2022-05-27T21:25:58.726213Z",
     "shell.execute_reply.started": "2022-05-27T21:25:42.220765Z"
    },
    "tags": []
   },
   "outputs": [
    {
     "name": "stdout",
     "output_type": "stream",
     "text": [
      "100 off\n",
      "200 off\n",
      "300 off\n",
      "400 off\n",
      "500 safe\n",
      "600 safe\n",
      "700 safe\n",
      "800 safe\n",
      "900 safe\n",
      "1000 pos\n",
      "1100 pos\n",
      "1200 pos\n",
      "1300 pos\n",
      "1400 pos\n",
      "1500 pos\n",
      "1600 pos\n",
      "1700 pos\n",
      "1800 pos\n",
      "1900 pos\n"
     ]
    },
    {
     "name": "stderr",
     "output_type": "stream",
     "text": [
      "WARNING:root:solve failed, maintaining previous forces\n"
     ]
    },
    {
     "name": "stdout",
     "output_type": "stream",
     "text": [
      "2000 up\n",
      "Failed to solve!\n",
      "F.value:  None\n",
      "positions:  [[ 3.81823749e-02  9.08385352e-05  4.30713156e-02]\n",
      " [ 5.91806361e-03 -4.47746470e-02  1.84331054e-02]\n",
      " [-4.43961836e-02  2.45946482e-03  1.75933925e-02]]\n",
      "normals:  [[ 8.96686038e-02  9.95971657e-01 -8.18075197e-06]\n",
      " [-8.96686038e-02 -9.95971657e-01  8.18075197e-06]\n",
      " [-9.95971657e-01  8.96686036e-02 -9.32499352e-06]]\n",
      "target_force:  [ 1.85888369e-04 -2.68157883e-04  7.93301992e-01]\n",
      "target_torque:  [3.51617436e-06 3.50164058e-06 1.79578407e-02]\n"
     ]
    },
    {
     "ename": "AttributeError",
     "evalue": "'PDControlPolicy' object has no attribute 'previous_global_forces'",
     "output_type": "error",
     "traceback": [
      "\u001b[0;31m---------------------------------------------------------------------------\u001b[0m",
      "\u001b[0;31mAssertionError\u001b[0m                            Traceback (most recent call last)",
      "\u001b[0;32m/scr-ssd/ksrini/workspace/src/rrc_example_package/rrc_example_package/pd_control.py\u001b[0m in \u001b[0;36mobject_pos_control\u001b[0;34m(self, observation, grasp_points, in_normal, target_pos)\u001b[0m\n\u001b[1;32m    176\u001b[0m             global_forces = utils.calculate_grip_forces(\n\u001b[0;32m--> 177\u001b[0;31m                 \u001b[0mgrasp_points\u001b[0m\u001b[0;34m,\u001b[0m \u001b[0min_normal\u001b[0m\u001b[0;34m,\u001b[0m \u001b[0mtarget_force\u001b[0m\u001b[0;34m,\u001b[0m \u001b[0mtarget_torque\u001b[0m\u001b[0;34m\u001b[0m\u001b[0;34m\u001b[0m\u001b[0m\n\u001b[0m\u001b[1;32m    178\u001b[0m             )\n",
      "\u001b[0;32m/scr-ssd/ksrini/workspace/src/rrc_example_package/rrc_example_package/utils.py\u001b[0m in \u001b[0;36mcalculate_grip_forces\u001b[0;34m(positions, normals, target_force, target_torque)\u001b[0m\n\u001b[1;32m    392\u001b[0m         \u001b[0mprint\u001b[0m\u001b[0;34m(\u001b[0m\u001b[0;34m\"target_torque: \"\u001b[0m\u001b[0;34m,\u001b[0m \u001b[0mtarget_torque\u001b[0m\u001b[0;34m)\u001b[0m\u001b[0;34m\u001b[0m\u001b[0;34m\u001b[0m\u001b[0m\n\u001b[0;32m--> 393\u001b[0;31m         \u001b[0;32massert\u001b[0m \u001b[0;32mFalse\u001b[0m\u001b[0;34m\u001b[0m\u001b[0;34m\u001b[0m\u001b[0m\n\u001b[0m\u001b[1;32m    394\u001b[0m \u001b[0;34m\u001b[0m\u001b[0m\n",
      "\u001b[0;31mAssertionError\u001b[0m: ",
      "\nDuring handling of the above exception, another exception occurred:\n",
      "\u001b[0;31mAttributeError\u001b[0m                            Traceback (most recent call last)",
      "\u001b[0;32m<ipython-input-58-556e1cc296d7>\u001b[0m in \u001b[0;36m<module>\u001b[0;34m\u001b[0m\n\u001b[1;32m      7\u001b[0m \u001b[0;34m\u001b[0m\u001b[0m\n\u001b[1;32m      8\u001b[0m \u001b[0;32mwhile\u001b[0m \u001b[0;32mnot\u001b[0m \u001b[0mis_done\u001b[0m\u001b[0;34m:\u001b[0m\u001b[0;34m\u001b[0m\u001b[0;34m\u001b[0m\u001b[0m\n\u001b[0;32m----> 9\u001b[0;31m     \u001b[0maction\u001b[0m \u001b[0;34m=\u001b[0m \u001b[0mpolicy\u001b[0m\u001b[0;34m.\u001b[0m\u001b[0mpredict\u001b[0m\u001b[0;34m(\u001b[0m\u001b[0mobservation\u001b[0m\u001b[0;34m,\u001b[0m \u001b[0mt\u001b[0m\u001b[0;34m)\u001b[0m  \u001b[0;31m# always on off mode\u001b[0m\u001b[0;34m\u001b[0m\u001b[0;34m\u001b[0m\u001b[0m\n\u001b[0m\u001b[1;32m     10\u001b[0m     \u001b[0mobservation\u001b[0m\u001b[0;34m,\u001b[0m \u001b[0mreward\u001b[0m\u001b[0;34m,\u001b[0m \u001b[0mis_done\u001b[0m\u001b[0;34m,\u001b[0m \u001b[0minfo\u001b[0m \u001b[0;34m=\u001b[0m \u001b[0menv\u001b[0m\u001b[0;34m.\u001b[0m\u001b[0mstep\u001b[0m\u001b[0;34m(\u001b[0m\u001b[0maction\u001b[0m\u001b[0;34m)\u001b[0m\u001b[0;34m\u001b[0m\u001b[0;34m\u001b[0m\u001b[0m\n\u001b[1;32m     11\u001b[0m     \u001b[0mt\u001b[0m \u001b[0;34m=\u001b[0m \u001b[0minfo\u001b[0m\u001b[0;34m[\u001b[0m\u001b[0;34m\"time_index\"\u001b[0m\u001b[0;34m]\u001b[0m\u001b[0;34m\u001b[0m\u001b[0;34m\u001b[0m\u001b[0m\n",
      "\u001b[0;32m/scr-ssd/ksrini/workspace/src/rrc_example_package/rrc_example_package/pd_control.py\u001b[0m in \u001b[0;36mpredict\u001b[0;34m(self, observation, t)\u001b[0m\n\u001b[1;32m    265\u001b[0m         \u001b[0;32mif\u001b[0m \u001b[0mt\u001b[0m \u001b[0;34m>\u001b[0m \u001b[0;36m500\u001b[0m\u001b[0;34m:\u001b[0m\u001b[0;34m\u001b[0m\u001b[0;34m\u001b[0m\u001b[0m\n\u001b[1;32m    266\u001b[0m             \u001b[0;31m# get joint torques for finger 0 to move its tip to the goal position\u001b[0m\u001b[0;34m\u001b[0m\u001b[0;34m\u001b[0m\u001b[0;34m\u001b[0m\u001b[0m\n\u001b[0;32m--> 267\u001b[0;31m             \u001b[0mself\u001b[0m\u001b[0;34m.\u001b[0m\u001b[0mjoint_torques\u001b[0m \u001b[0;34m=\u001b[0m \u001b[0mself\u001b[0m\u001b[0;34m.\u001b[0m\u001b[0mcontrol\u001b[0m\u001b[0;34m(\u001b[0m\u001b[0mmode\u001b[0m\u001b[0;34m,\u001b[0m \u001b[0mobservation\u001b[0m\u001b[0;34m)\u001b[0m\u001b[0;34m\u001b[0m\u001b[0;34m\u001b[0m\u001b[0m\n\u001b[0m\u001b[1;32m    268\u001b[0m             \u001b[0mself\u001b[0m\u001b[0;34m.\u001b[0m\u001b[0mjoint_torques\u001b[0m \u001b[0;34m+=\u001b[0m \u001b[0mself\u001b[0m\u001b[0;34m.\u001b[0m\u001b[0mgravity_comp\u001b[0m\u001b[0;34m(\u001b[0m\u001b[0mobservation\u001b[0m\u001b[0;34m)\u001b[0m\u001b[0;34m\u001b[0m\u001b[0;34m\u001b[0m\u001b[0m\n\u001b[1;32m    269\u001b[0m             \u001b[0mself\u001b[0m\u001b[0;34m.\u001b[0m\u001b[0mjoint_torques\u001b[0m \u001b[0;34m=\u001b[0m \u001b[0mself\u001b[0m\u001b[0;34m.\u001b[0m\u001b[0mclip_to_space\u001b[0m\u001b[0;34m(\u001b[0m\u001b[0mself\u001b[0m\u001b[0;34m.\u001b[0m\u001b[0mjoint_torques\u001b[0m\u001b[0;34m)\u001b[0m\u001b[0;34m\u001b[0m\u001b[0;34m\u001b[0m\u001b[0m\n",
      "\u001b[0;32m/scr-ssd/ksrini/workspace/src/rrc_example_package/rrc_example_package/pd_control.py\u001b[0m in \u001b[0;36mcontrol\u001b[0;34m(self, mode, observation)\u001b[0m\n\u001b[1;32m    216\u001b[0m             \u001b[0mtarget_pos\u001b[0m \u001b[0;34m=\u001b[0m \u001b[0mobservation\u001b[0m\u001b[0;34m[\u001b[0m\u001b[0;34m\"desired_goal\"\u001b[0m\u001b[0;34m]\u001b[0m\u001b[0;34m\u001b[0m\u001b[0;34m\u001b[0m\u001b[0m\n\u001b[1;32m    217\u001b[0m             return self.object_pos_control(\n\u001b[0;32m--> 218\u001b[0;31m                 \u001b[0mobservation\u001b[0m\u001b[0;34m,\u001b[0m \u001b[0mgrasp_points\u001b[0m\u001b[0;34m,\u001b[0m \u001b[0min_normals\u001b[0m\u001b[0;34m,\u001b[0m \u001b[0mtarget_pos\u001b[0m\u001b[0;34m\u001b[0m\u001b[0;34m\u001b[0m\u001b[0m\n\u001b[0m\u001b[1;32m    219\u001b[0m             )\n\u001b[1;32m    220\u001b[0m \u001b[0;34m\u001b[0m\u001b[0m\n",
      "\u001b[0;32m/scr-ssd/ksrini/workspace/src/rrc_example_package/rrc_example_package/pd_control.py\u001b[0m in \u001b[0;36mobject_pos_control\u001b[0;34m(self, observation, grasp_points, in_normal, target_pos)\u001b[0m\n\u001b[1;32m    180\u001b[0m             \u001b[0mlogging\u001b[0m\u001b[0;34m.\u001b[0m\u001b[0mwarning\u001b[0m\u001b[0;34m(\u001b[0m\u001b[0;34m\"solve failed, maintaining previous forces\"\u001b[0m\u001b[0;34m)\u001b[0m\u001b[0;34m\u001b[0m\u001b[0;34m\u001b[0m\u001b[0m\n\u001b[1;32m    181\u001b[0m             global_forces = (\n\u001b[0;32m--> 182\u001b[0;31m                 \u001b[0mself\u001b[0m\u001b[0;34m.\u001b[0m\u001b[0mprevious_global_forces\u001b[0m\u001b[0;34m\u001b[0m\u001b[0;34m\u001b[0m\u001b[0m\n\u001b[0m\u001b[1;32m    183\u001b[0m             )  # will fail if we failed solve on first iteration\n\u001b[1;32m    184\u001b[0m             \u001b[0;32massert\u001b[0m \u001b[0mglobal_forces\u001b[0m \u001b[0;32mis\u001b[0m \u001b[0;32mnot\u001b[0m \u001b[0;32mNone\u001b[0m\u001b[0;34m\u001b[0m\u001b[0;34m\u001b[0m\u001b[0m\n",
      "\u001b[0;31mAttributeError\u001b[0m: 'PDControlPolicy' object has no attribute 'previous_global_forces'"
     ]
    }
   ],
   "source": [
    "# first write after reset\n",
    "if save_vid:\n",
    "    write_frame_to_image(f\"/tmp/img{t}.png\", **camera_kwargs)\n",
    "\n",
    "markers = None\n",
    "last_mode = \"\"\n",
    "\n",
    "while not is_done:\n",
    "    action = policy.predict(observation, t)  # always on off mode\n",
    "    observation, reward, is_done, info = env.step(action)\n",
    "    t = info[\"time_index\"]\n",
    "    grasp_pts, normals = policy.compute_grasp_points_normals(observation, overwrite_z=True)\n",
    "    if policy.set_mode(t) != last_mode:\n",
    "        last_mode = policy.set_mode(t)\n",
    "        if (~np.isclose(grasp_pts[:, 2], utils.CUBE_HALF_SIZE, atol=1e-6)).any():\n",
    "            print(grasp_pts[:, 2] - utils.CUBE_HALF_SIZE)\n",
    "            pdb.set_trace()\n",
    "        markers = debug_markers(markers, grasp_pts)\n",
    "    if save_vid and t % save_freq == 0:\n",
    "        write_frame_to_image(f\"/tmp/img{t}.png\", **camera_kwargs)\n",
    "\n",
    "if save_vid:\n",
    "    write_frames_to_video(img_dir=\"/tmp\")"
   ]
  },
  {
   "cell_type": "code",
   "execution_count": 48,
   "id": "d388f0c5-49d4-4dc7-97b4-8ca5d00f449d",
   "metadata": {
    "execution": {
     "iopub.execute_input": "2022-05-27T18:54:31.871275Z",
     "iopub.status.busy": "2022-05-27T18:54:31.871066Z",
     "iopub.status.idle": "2022-05-27T18:54:31.894195Z",
     "shell.execute_reply": "2022-05-27T18:54:31.893471Z",
     "shell.execute_reply.started": "2022-05-27T18:54:31.871253Z"
    },
    "tags": []
   },
   "outputs": [
    {
     "data": {
      "text/plain": [
       "(array([0.0325, 0.0325, 0.0325]), 0.0335)"
      ]
     },
     "execution_count": 48,
     "metadata": {},
     "output_type": "execute_result"
    }
   ],
   "source": [
    "grasp_pts[:, 2], utils.CUBE_HALF_SIZE"
   ]
  },
  {
   "cell_type": "code",
   "execution_count": 15,
   "id": "93283199-c6da-4f27-8dfc-69867e137347",
   "metadata": {
    "execution": {
     "iopub.execute_input": "2022-05-25T04:26:46.684711Z",
     "iopub.status.busy": "2022-05-25T04:26:46.684434Z",
     "iopub.status.idle": "2022-05-25T04:26:46.713511Z",
     "shell.execute_reply": "2022-05-25T04:26:46.712862Z",
     "shell.execute_reply.started": "2022-05-25T04:26:46.684679Z"
    },
    "tags": []
   },
   "outputs": [
    {
     "data": {
      "text/plain": [
       "[(b'link0', b''), (b'link0', b''), (b'link0', b'')]"
      ]
     },
     "execution_count": 15,
     "metadata": {},
     "output_type": "execute_result"
    }
   ],
   "source": [
    "[p.getBodyInfo(x.body_id) for x in markers.markers]"
   ]
  },
  {
   "cell_type": "code",
   "execution_count": 38,
   "id": "e595aa1e-6627-4e1f-9059-2ffc9d7ad192",
   "metadata": {
    "execution": {
     "iopub.execute_input": "2022-05-25T04:21:26.630366Z",
     "iopub.status.busy": "2022-05-25T04:21:26.630074Z",
     "iopub.status.idle": "2022-05-25T04:21:26.664145Z",
     "shell.execute_reply": "2022-05-25T04:21:26.663473Z",
     "shell.execute_reply.started": "2022-05-25T04:21:26.630333Z"
    },
    "tags": []
   },
   "outputs": [
    {
     "ename": "ValueError",
     "evalue": "need at least one array to concatenate",
     "output_type": "error",
     "traceback": [
      "\u001b[0;31m---------------------------------------------------------------------------\u001b[0m",
      "\u001b[0;31mValueError\u001b[0m                                Traceback (most recent call last)",
      "\u001b[0;32m<ipython-input-38-bd90a73d9304>\u001b[0m in \u001b[0;36m<module>\u001b[0;34m\u001b[0m\n\u001b[1;32m      1\u001b[0m \u001b[0;32mimport\u001b[0m \u001b[0mmatplotlib\u001b[0m\u001b[0;34m.\u001b[0m\u001b[0mpyplot\u001b[0m \u001b[0;32mas\u001b[0m \u001b[0mplt\u001b[0m\u001b[0;34m\u001b[0m\u001b[0;34m\u001b[0m\u001b[0m\n\u001b[1;32m      2\u001b[0m \u001b[0;34m\u001b[0m\u001b[0m\n\u001b[0;32m----> 3\u001b[0;31m \u001b[0myzs\u001b[0m \u001b[0;34m=\u001b[0m \u001b[0mnp\u001b[0m\u001b[0;34m.\u001b[0m\u001b[0mconcatenate\u001b[0m\u001b[0;34m(\u001b[0m\u001b[0;34m[\u001b[0m\u001b[0mgp\u001b[0m\u001b[0;34m[\u001b[0m\u001b[0;34m:\u001b[0m\u001b[0;34m,\u001b[0m \u001b[0;36m1\u001b[0m\u001b[0;34m:\u001b[0m\u001b[0;34m]\u001b[0m \u001b[0;32mfor\u001b[0m \u001b[0mgp\u001b[0m \u001b[0;32min\u001b[0m \u001b[0mgrasp_pt_hist\u001b[0m\u001b[0;34m]\u001b[0m\u001b[0;34m)\u001b[0m\u001b[0;34m\u001b[0m\u001b[0;34m\u001b[0m\u001b[0m\n\u001b[0m\u001b[1;32m      4\u001b[0m \u001b[0mxzs\u001b[0m \u001b[0;34m=\u001b[0m \u001b[0mnp\u001b[0m\u001b[0;34m.\u001b[0m\u001b[0mconcatenate\u001b[0m\u001b[0;34m(\u001b[0m\u001b[0;34m[\u001b[0m\u001b[0mgp\u001b[0m\u001b[0;34m[\u001b[0m\u001b[0;34m:\u001b[0m\u001b[0;34m,\u001b[0m \u001b[0;34m[\u001b[0m\u001b[0;36m0\u001b[0m\u001b[0;34m,\u001b[0m\u001b[0;36m2\u001b[0m\u001b[0;34m]\u001b[0m\u001b[0;34m]\u001b[0m \u001b[0;32mfor\u001b[0m \u001b[0mgp\u001b[0m \u001b[0;32min\u001b[0m \u001b[0mgrasp_pt_hist\u001b[0m\u001b[0;34m]\u001b[0m\u001b[0;34m)\u001b[0m\u001b[0;34m\u001b[0m\u001b[0;34m\u001b[0m\u001b[0m\n\u001b[1;32m      5\u001b[0m \u001b[0;34m\u001b[0m\u001b[0m\n",
      "\u001b[0;32m<__array_function__ internals>\u001b[0m in \u001b[0;36mconcatenate\u001b[0;34m(*args, **kwargs)\u001b[0m\n",
      "\u001b[0;31mValueError\u001b[0m: need at least one array to concatenate"
     ]
    }
   ],
   "source": [
    "import matplotlib.pyplot as plt\n",
    "\n",
    "yzs = np.concatenate([gp[:, 1:] for gp in grasp_pt_hist])\n",
    "xzs = np.concatenate([gp[:, [0,2]] for gp in grasp_pt_hist])\n",
    "\n",
    "f, ax = plt.subplots(ncols=2, figsize=(12,6))\n",
    "ax[0].scatter(yzs[:, 0], yzs[:, 1])\n",
    "ax[1].scatter(xzs[:, 0], xzs[:, 1])"
   ]
  },
  {
   "cell_type": "code",
   "execution_count": 59,
   "id": "6b1f7d0a-c933-4854-ae6b-344d2194e373",
   "metadata": {
    "execution": {
     "iopub.execute_input": "2022-05-23T05:24:56.222476Z",
     "iopub.status.busy": "2022-05-23T05:24:56.222003Z",
     "iopub.status.idle": "2022-05-23T05:24:56.229800Z",
     "shell.execute_reply": "2022-05-23T05:24:56.229199Z",
     "shell.execute_reply.started": "2022-05-23T05:24:56.222419Z"
    },
    "tags": []
   },
   "outputs": [
    {
     "data": {
      "text/plain": [
       "array([0., 0., 0., 0., 0., 0., 0., 0., 0.])"
      ]
     },
     "execution_count": 59,
     "metadata": {},
     "output_type": "execute_result"
    }
   ],
   "source": [
    "action"
   ]
  },
  {
   "cell_type": "code",
   "execution_count": 43,
   "id": "e3efa2e3-6856-4548-9adf-bfe0861c032e",
   "metadata": {
    "execution": {
     "iopub.execute_input": "2022-05-22T21:56:42.719444Z",
     "iopub.status.busy": "2022-05-22T21:56:42.718950Z",
     "iopub.status.idle": "2022-05-22T21:56:43.954863Z",
     "shell.execute_reply": "2022-05-22T21:56:43.954318Z",
     "shell.execute_reply.started": "2022-05-22T21:56:42.719381Z"
    },
    "tags": []
   },
   "outputs": [
    {
     "name": "stdout",
     "output_type": "stream",
     "text": [
      "wrote frames to vids/run0.mp4\n"
     ]
    }
   ],
   "source": [
    "if save_vid:\n",
    "    write_frames_to_video(frames)"
   ]
  },
  {
   "cell_type": "code",
   "execution_count": 44,
   "id": "f21fd50b-1b18-417c-bf6e-615d2317d3ea",
   "metadata": {
    "execution": {
     "iopub.execute_input": "2022-05-22T21:58:14.920066Z",
     "iopub.status.busy": "2022-05-22T21:58:14.919822Z",
     "iopub.status.idle": "2022-05-22T21:58:14.933308Z",
     "shell.execute_reply": "2022-05-22T21:58:14.931863Z",
     "shell.execute_reply.started": "2022-05-22T21:58:14.920036Z"
    },
    "tags": []
   },
   "outputs": [
    {
     "data": {
      "text/html": [
       "<video src=\"vids/run0.mp4\" controls  >\n",
       "      Your browser does not support the <code>video</code> element.\n",
       "    </video>"
      ],
      "text/plain": [
       "<IPython.core.display.Video object>"
      ]
     },
     "execution_count": 44,
     "metadata": {},
     "output_type": "execute_result"
    }
   ],
   "source": [
    "\n",
    "Video(\"vids/run0.mp4\")"
   ]
  }
 ],
 "metadata": {
  "kernelspec": {
   "display_name": "trifinger",
   "language": "python",
   "name": "trifinger"
  },
  "language_info": {
   "codemirror_mode": {
    "name": "ipython",
    "version": 3
   },
   "file_extension": ".py",
   "mimetype": "text/x-python",
   "name": "python",
   "nbconvert_exporter": "python",
   "pygments_lexer": "ipython3",
   "version": "3.8.5"
  }
 },
 "nbformat": 4,
 "nbformat_minor": 5
}
